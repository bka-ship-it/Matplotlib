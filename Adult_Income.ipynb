{
  "nbformat": 4,
  "nbformat_minor": 0,
  "metadata": {
    "colab": {
      "provenance": [],
      "authorship_tag": "ABX9TyP3m/RDc7BpNdt9gSbvBO+2",
      "include_colab_link": true
    },
    "kernelspec": {
      "name": "python3",
      "display_name": "Python 3"
    },
    "language_info": {
      "name": "python"
    }
  },
  "cells": [
    {
      "cell_type": "markdown",
      "metadata": {
        "id": "view-in-github",
        "colab_type": "text"
      },
      "source": [
        "<a href=\"https://colab.research.google.com/github/bka-ship-it/Matplotlib/blob/main/Adult_Income.ipynb\" target=\"_parent\"><img src=\"https://colab.research.google.com/assets/colab-badge.svg\" alt=\"Open In Colab\"/></a>"
      ]
    },
    {
      "cell_type": "code",
      "execution_count": null,
      "metadata": {
        "colab": {
          "base_uri": "https://localhost:8080/"
        },
        "id": "kzTZmnBNZpw7",
        "outputId": "e41547c4-0a6c-401c-e461-fe20afd54c07"
      },
      "outputs": [
        {
          "output_type": "stream",
          "name": "stdout",
          "text": [
            "                Age           Pin  Education Number  Capital Gain  \\\n",
            "count  32560.000000  3.256000e+04      32560.000000  32560.000000   \n",
            "mean      38.581634  1.897818e+05         10.080590   1077.615172   \n",
            "std       13.640642  1.055498e+05          2.572709   7385.402999   \n",
            "min       17.000000  1.228500e+04          1.000000      0.000000   \n",
            "25%       28.000000  1.178315e+05          9.000000      0.000000   \n",
            "50%       37.000000  1.783630e+05         10.000000      0.000000   \n",
            "75%       48.000000  2.370545e+05         12.000000      0.000000   \n",
            "max       90.000000  1.484705e+06         16.000000  99999.000000   \n",
            "\n",
            "       Capital Loss       Country  \n",
            "count  32560.000000  32560.000000  \n",
            "mean      87.306511     40.437469  \n",
            "std      402.966116     12.347618  \n",
            "min        0.000000      1.000000  \n",
            "25%        0.000000     40.000000  \n",
            "50%        0.000000     40.000000  \n",
            "75%        0.000000     45.000000  \n",
            "max     4356.000000     99.000000  \n",
            "<class 'pandas.core.frame.DataFrame'>\n",
            "RangeIndex: 32560 entries, 0 to 32559\n",
            "Data columns (total 15 columns):\n",
            " #   Column            Non-Null Count  Dtype \n",
            "---  ------            --------------  ----- \n",
            " 0   Age               32560 non-null  int64 \n",
            " 1   Sector            32560 non-null  object\n",
            " 2   Pin               32560 non-null  int64 \n",
            " 3   Education         32560 non-null  object\n",
            " 4   Education Number  32560 non-null  int64 \n",
            " 5   Marital Status    32560 non-null  object\n",
            " 6   Occupation        32560 non-null  object\n",
            " 7   Relationship      32560 non-null  object\n",
            " 8   Race              32560 non-null  object\n",
            " 9   Gender            32560 non-null  object\n",
            " 10  Capital Gain      32560 non-null  int64 \n",
            " 11  Capital Loss      32560 non-null  int64 \n",
            " 12  Country           32560 non-null  int64 \n",
            " 13  Hours Per Week    32560 non-null  object\n",
            " 14  Salary            32560 non-null  object\n",
            "dtypes: int64(6), object(9)\n",
            "memory usage: 3.7+ MB\n",
            "None\n",
            "Age                 0\n",
            "Sector              0\n",
            "Pin                 0\n",
            "Education           0\n",
            "Education Number    0\n",
            "Marital Status      0\n",
            "Occupation          0\n",
            "Relationship        0\n",
            "Race                0\n",
            "Gender              0\n",
            "Capital Gain        0\n",
            "Capital Loss        0\n",
            "Country             0\n",
            "Hours Per Week      0\n",
            "Salary              0\n",
            "dtype: int64\n",
            "Age                 0\n",
            "Sector              0\n",
            "Pin                 0\n",
            "Education           0\n",
            "Education Number    0\n",
            "Marital Status      0\n",
            "Occupation          0\n",
            "Relationship        0\n",
            "Race                0\n",
            "Gender              0\n",
            "Capital Gain        0\n",
            "Capital Loss        0\n",
            "Country             0\n",
            "Hours Per Week      0\n",
            "Salary              0\n",
            "dtype: int64\n"
          ]
        }
      ],
      "source": [
        "import numpy as np\n",
        "import matplotlib.pyplot as plt\n",
        "import pandas as pd\n",
        "import seaborn as sns\n",
        "from pandas.plotting import scatter_matrix\n",
        "\n",
        "data=pd.read_csv('adult-income.csv')\n",
        "data.columns=['Age','Sector','Pin','Education','Education Number','Marital Status','Occupation','Relationship','Race','Gender','Capital Gain','Capital Loss','Country','Hours Per Week','Salary']\n",
        "print(data.describe())\n",
        "print(data.info())\n",
        "print(data.isnull().sum())\n",
        "print(data.isin(['?']).sum(axis=0))\n",
        "\n",
        "data['Country']=data['Country'].replace('?',np.nan)\n",
        "data['Sector']=data['Sector'].replace('?',np.nan)\n",
        "data['Occupation']=data['Occupation'].replace('?',np.nan)"
      ]
    }
  ]
}